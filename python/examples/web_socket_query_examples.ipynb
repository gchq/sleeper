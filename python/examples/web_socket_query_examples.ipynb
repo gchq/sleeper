{
 "cells": [
  {
   "cell_type": "markdown",
   "id": "cbbf8b96",
   "metadata": {},
   "source": [
    "### Copyright 2022-2025 Crown Copyright\n",
    "\n",
    "```\n",
    "Licensed under the Apache License, Version 2.0 (the \"License\");\n",
    "you may not use this file except in compliance with the License.\n",
    "You may obtain a copy of the License at\n",
    "\n",
    "    http://www.apache.org/licenses/LICENSE-2.0\n",
    "\n",
    "Unless required by applicable law or agreed to in writing, software\n",
    "distributed under the License is distributed on an \"AS IS\" BASIS,\n",
    "WITHOUT WARRANTIES OR CONDITIONS OF ANY KIND, either express or implied.\n",
    "See the License for the specific language governing permissions and\n",
    "limitations under the License.\n",
    "```"
   ]
  },
  {
   "cell_type": "markdown",
   "id": "ef675b19",
   "metadata": {},
   "source": [
    "## Setup Sleeper Client\n",
    "Setup the logger for the notebook and create a Sleeper Client that is connected to a Sleeper instance.\n",
    "\n",
    "This assumes that Sleeper has already been deployed with a table created and partitioned. "
   ]
  },
  {
   "cell_type": "code",
   "execution_count": null,
   "id": "78ff93a0",
   "metadata": {},
   "outputs": [],
   "source": [
    "import logging\n",
    "\n",
    "from sleeper.client import SleeperClient\n",
    "\n",
    "logging.basicConfig(level=logging.INFO, format=\"%(asctime)s %(levelname)s %(message)s\", force=True)\n",
    "jupyter_logger = logging.getLogger(__name__)\n",
    "\n",
    "# Override the Sleeper Client log level\n",
    "sleeper_client_logger = logging.getLogger(\"sleeper.client\")\n",
    "sleeper_client_logger.setLevel(logging.INFO)\n",
    "\n",
    "sleeper_client = SleeperClient(\"<insert-sleeper-instance-id>\")\n",
    "\n",
    "table_name = \"my-table\"  # Set this here so we can use it later without running all cells."
   ]
  },
  {
   "cell_type": "markdown",
   "id": "6516f919",
   "metadata": {},
   "source": [
    "## Bulk Import Data into Sleeper\n",
    "The next cell will bulk import data into Sleeper from S3 using EMR Serverless.\n",
    "\n",
    "If you already have data imported this cell can be skipped."
   ]
  },
  {
   "cell_type": "code",
   "execution_count": null,
   "id": "ad6091e2",
   "metadata": {},
   "outputs": [],
   "source": [
    "files = [\"<s3-bucket>/<directory>/\"]\n",
    "\n",
    "sleeper_client.bulk_import_parquet_files_from_s3(table_name=table_name, files=files, platform=\"EMRServerless\")"
   ]
  },
  {
   "cell_type": "markdown",
   "id": "5c4711b5",
   "metadata": {},
   "source": [
    "## Exact Query\n",
    "Run an exact query using web sockets via the Sleeper Client.\n",
    "\n",
    "This will wait for the web socket to finish before logging the results."
   ]
  },
  {
   "cell_type": "code",
   "execution_count": null,
   "id": "0590f899",
   "metadata": {},
   "outputs": [],
   "source": [
    "keys = {\"column\": [\"abc\", \"dfg\", \"hij\"]}\n",
    "exact_results = await sleeper_client.web_socket_exact_key_query(table_name=table_name, keys=keys)\n",
    "\n",
    "jupyter_logger.info(f\"Exact Results: {exact_results}\")"
   ]
  },
  {
   "cell_type": "markdown",
   "id": "15203e18",
   "metadata": {},
   "source": [
    "## Range Query\n",
    "Run a range query using web sockets via the Sleeper Client.\n",
    "\n",
    "This will wait for the web socket to finish before logging the results."
   ]
  },
  {
   "cell_type": "code",
   "execution_count": null,
   "id": "cfc90009",
   "metadata": {},
   "outputs": [],
   "source": [
    "keys = [{\"column\": {\"min\": \"abc\", \"max\": \"hij\"}}, {\"column\": {\"min\": \"rst\", \"max\": \"xyz\"}}]\n",
    "range_results = await sleeper_client.web_socket_range_key_query(table_name=table_name, keys=keys)\n",
    "\n",
    "jupyter_logger.info(f\"Range Results: {range_results}\")"
   ]
  }
 ],
 "metadata": {
  "kernelspec": {
   "display_name": "Python (Sleeper)",
   "language": "python",
   "name": "sleeper-venv"
  },
  "language_info": {
   "codemirror_mode": {
    "name": "ipython",
    "version": 3
   },
   "file_extension": ".py",
   "mimetype": "text/x-python",
   "name": "python",
   "nbconvert_exporter": "python",
   "pygments_lexer": "ipython3",
   "version": "3.12.0"
  }
 },
 "nbformat": 4,
 "nbformat_minor": 5
}
